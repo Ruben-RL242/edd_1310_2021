{
  "nbformat": 4,
  "nbformat_minor": 0,
  "metadata": {
    "colab": {
      "name": "27octubre_1310.ipynb",
      "provenance": [],
      "authorship_tag": "ABX9TyMnxnB9r35fzdyT1K7jvGmY",
      "include_colab_link": true
    },
    "kernelspec": {
      "name": "python3",
      "display_name": "Python 3"
    }
  },
  "cells": [
    {
      "cell_type": "markdown",
      "metadata": {
        "id": "view-in-github",
        "colab_type": "text"
      },
      "source": [
        "<a href=\"https://colab.research.google.com/github/Ruben-RL242/edd_1310_2021/blob/master/27octubre_1310.ipynb\" target=\"_parent\"><img src=\"https://colab.research.google.com/assets/colab-badge.svg\" alt=\"Open In Colab\"/></a>"
      ]
    },
    {
      "cell_type": "code",
      "metadata": {
        "id": "iSkL3a65E9BS",
        "outputId": "daa2f167-2209-4bf6-c9d2-cf8270298b60",
        "colab": {
          "base_uri": "https://localhost:8080/",
          "height": 72
        }
      },
      "source": [
        "class Computadora:\n",
        "    def __init__( self , m , p):\n",
        "        self.__marca = m\n",
        "        self.__procesador = p\n",
        "\n",
        "    def to_string( self ):\n",
        "        return \"Marca:\"+self.__marca+\" Procesador:\"+self.__procesador\n",
        "\n",
        "    def set_marca(self,m):\n",
        "      self.__marca=m\n",
        "\n",
        "    def get_marca(self):\n",
        "      return self.__marca\n",
        "\n",
        "    def set_procesador(self,p):\n",
        "      self.__procesador=p\n",
        "\n",
        "    def get_procesador(self):\n",
        "      return self.__procesador\n",
        "\n",
        "mi_pc = Computadora(\"Toshiba\",\"Intel i7\")\n",
        "print(mi_pc.to_string())\n",
        "mi_pc.__marca=\"HP \" # intentando cambiar el valor privado \n",
        "mi_pc.set_marca(\"HP co.\")\n",
        "print(mi_pc.to_string())\n",
        "# print(mi_pc.__procesador)\n",
        "print(mi_pc.get_procesador())"
      ],
      "execution_count": 10,
      "outputs": [
        {
          "output_type": "stream",
          "text": [
            "Marca:Toshiba Procesador:Intel i7\n",
            "Marca:HP co. Procesador:Intel i7\n",
            "Intel i7\n"
          ],
          "name": "stdout"
        }
      ]
    },
    {
      "cell_type": "markdown",
      "metadata": {
        "id": "9Zeate77EHPj"
      },
      "source": [
        "# encapsulamiento python 3\n",
        "## tradicional tipo java\n",
        "    void setAtributo( val )\n",
        "    tipo getAtributo( )\n",
        "## estilo pyton 3\n",
        "UTILIZANDO DECORADORES\n",
        "  - @property\n",
        "  - @atributo.setter\n"
      ]
    },
    {
      "cell_type": "code",
      "metadata": {
        "id": "cEh7MBlfHy4u",
        "outputId": "6a99968e-fabd-4e43-df4a-5604635e9b33",
        "colab": {
          "base_uri": "https://localhost:8080/",
          "height": 163
        }
      },
      "source": [
        "class Computadora:\n",
        "    def __init__( self , m , p ):\n",
        "        self.marca=m #No se declara se manda a llamar el decorador @property\n",
        "        self.procesador=p \n",
        "\n",
        "    @property     #Declara como atributo privado y funciona como metodo get\n",
        "    def marca(self):\n",
        "        return self.__marca\n",
        "\n",
        "    @marca.setter\n",
        "    def marca(self , m):\n",
        "        print(\"En el metodo setter de marca\")\n",
        "        self.__marca=m\n",
        "\n",
        "    @property\n",
        "    def procesador(self):\n",
        "        return self.__procesador\n",
        "\n",
        "    @procesador.setter\n",
        "    def procesador( self , p ):\n",
        "        print(\"En el metodo setter de procesador\")\n",
        "        self.__procesador=p\n",
        "\n",
        "    def to_string( self ):\n",
        "        return 'Marca: ' + self.marca + '\\nProcesador: ' + self.procesador\n",
        "\n",
        "mi_pc2=Computadora(\"Mac Book pro\" , \"Intel i7\")\n",
        "print(mi_pc2.to_string())\n",
        "print(\"---\")\n",
        "mi_pc2.marca=\"Dell\"\n",
        "print(mi_pc2.to_string())"
      ],
      "execution_count": 32,
      "outputs": [
        {
          "output_type": "stream",
          "text": [
            "En el metodo setter de marca\n",
            "En el metodo setter de procesador\n",
            "Marca: Mac Book pro\n",
            "Procesador: Intel i7\n",
            "---\n",
            "En el metodo setter de marca\n",
            "Marca: Dell\n",
            "Procesador: Intel i7\n"
          ],
          "name": "stdout"
        }
      ]
    },
    {
      "cell_type": "code",
      "metadata": {
        "id": "W367Tl0-Oc9l",
        "outputId": "00095f8d-9a5b-4ed3-de02-085fae0afaff",
        "colab": {
          "base_uri": "https://localhost:8080/",
          "height": 108
        }
      },
      "source": [
        "#herencia , pasando la clase base a la declaracion\n",
        "class ServidorEmpresarial(Computadora):\n",
        "    def __init__(self):\n",
        "        print(\"hola servidor\")\n",
        "\n",
        "server=ServidorEmpresarial()\n",
        "server.procesador=\"intel i 7\"\n",
        "server.marca=\"Sun Micro Systems\"\n",
        "print(server.to_string())"
      ],
      "execution_count": 33,
      "outputs": [
        {
          "output_type": "stream",
          "text": [
            "hola servidor\n",
            "En el metodo setter de procesador\n",
            "En el metodo setter de marca\n",
            "Marca: Sun Micro Systems\n",
            "Procesador: intel i 7\n"
          ],
          "name": "stdout"
        }
      ]
    }
  ]
}