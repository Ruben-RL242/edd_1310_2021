{
  "nbformat": 4,
  "nbformat_minor": 0,
  "metadata": {
    "colab": {
      "name": "20octubre_1310.ipynb",
      "provenance": [],
      "authorship_tag": "ABX9TyODa7ur9qY9gmVgFbv2GP5K",
      "include_colab_link": true
    },
    "kernelspec": {
      "name": "python3",
      "display_name": "Python 3"
    }
  },
  "cells": [
    {
      "cell_type": "markdown",
      "metadata": {
        "id": "view-in-github",
        "colab_type": "text"
      },
      "source": [
        "<a href=\"https://colab.research.google.com/github/Ruben-RL242/edd_1310_2021/blob/master/20octubre_1310.ipynb\" target=\"_parent\"><img src=\"https://colab.research.google.com/assets/colab-badge.svg\" alt=\"Open In Colab\"/></a>"
      ]
    },
    {
      "cell_type": "code",
      "metadata": {
        "id": "njAtHiJnxw2O"
      },
      "source": [
        "suma=0\n",
        "archivo=open('numeros.txt','rt')\n",
        "for linea in archivo.readlines():\n",
        "  for trunc in linea.split(','):\n",
        "    print(int(trunc.strip()))"
      ],
      "execution_count": null,
      "outputs": []
    },
    {
      "cell_type": "markdown",
      "metadata": {
        "id": "dqPphXej2nX6"
      },
      "source": [
        "# sintaxis del for em phyton\n",
        "\n",
        "- dos versiones de for\n",
        " 1. range\n",
        " 2. in iterator\n"
      ]
    },
    {
      "cell_type": "code",
      "metadata": {
        "id": "6Mhx7Yqd23Bg",
        "outputId": "a7e9ca35-dc10-4318-f17d-9e98e00ef92d",
        "colab": {
          "base_uri": "https://localhost:8080/",
          "height": 199
        }
      },
      "source": [
        "r=range(0,10,2)\n",
        "for x in r:\n",
        "  print(x)\n",
        "\n",
        "\n",
        "colores=['rojo','rosa','azul','fiusca'] #for(indice =0; indice<4:indice++)\n",
        "\n",
        "for indice in range(0,len(colores),1):\n",
        "  # print(colores[indice])\n",
        "  colores[indice]=colores[indice].upper()\n",
        "\n",
        "\n",
        "print(\"--------\")\n",
        "#for sobre un iterador\n",
        "for col in colores:\n",
        "  print(col)\n"
      ],
      "execution_count": null,
      "outputs": [
        {
          "output_type": "stream",
          "text": [
            "0\n",
            "2\n",
            "4\n",
            "6\n",
            "8\n",
            "--------\n",
            "ROJO\n",
            "ROSA\n",
            "AZUL\n",
            "FIUSCA\n"
          ],
          "name": "stdout"
        }
      ]
    },
    {
      "cell_type": "markdown",
      "metadata": {
        "id": "dTRGnavz7_kV"
      },
      "source": [
        "# generadores\n",
        "\n",
        "[\"hola\" for x in range()]"
      ]
    },
    {
      "cell_type": "code",
      "metadata": {
        "id": "2vb4JINH8Xxa",
        "outputId": "2dd0f372-1655-41b8-d191-8b49aacf2645",
        "colab": {
          "base_uri": "https://localhost:8080/",
          "height": 35
        }
      },
      "source": [
        "ren=3\n",
        "col=3\n",
        "lista=[[0 for x in range(col)] for x in range(ren)]\n",
        "\n",
        "print(lista)"
      ],
      "execution_count": null,
      "outputs": [
        {
          "output_type": "stream",
          "text": [
            "[[0, 0, 0], [0, 0, 0], [0, 0, 0]]\n"
          ],
          "name": "stdout"
        }
      ]
    },
    {
      "cell_type": "markdown",
      "metadata": {
        "id": "JOCW3jkXCQG0"
      },
      "source": [
        "# POO en Python\n",
        "- Clase\n",
        "- Cracion de objetos\n",
        "- Constructor\n",
        "- Encapsulamiento\n",
        "- Metodos\n",
        "- Atributos\n",
        "- Herencia"
      ]
    },
    {
      "cell_type": "code",
      "metadata": {
        "id": "jIJSBeGKBbMY",
        "outputId": "e83376dd-118f-4c56-c72f-c0c94ae2d424",
        "colab": {
          "base_uri": "https://localhost:8080/",
          "height": 54
        }
      },
      "source": [
        "class Computadora:\n",
        "    def __init__( self , m , p ):\n",
        "        self.__marca=m\n",
        "        self.__procesador=p\n",
        "    \n",
        "    def to_string( self ):\n",
        "      return \"Marca:\"+self.__marca+\" \\nProcesador:\"+self.__procesador\n",
        "\n",
        "mi_pc = Computadora(\" Toshiba\",\" Intel 7\")\n",
        "mi_pc.__marca=\"HP \"\n",
        "print(mi_pc.to_string())"
      ],
      "execution_count": 13,
      "outputs": [
        {
          "output_type": "stream",
          "text": [
            "Marca: Toshiba \n",
            "Procesador: Intel 7\n"
          ],
          "name": "stdout"
        }
      ]
    }
  ]
}