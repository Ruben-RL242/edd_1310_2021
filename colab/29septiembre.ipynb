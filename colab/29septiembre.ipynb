{
  "nbformat": 4,
  "nbformat_minor": 0,
  "metadata": {
    "colab": {
      "name": "Untitled0.ipynb",
      "provenance": [],
      "authorship_tag": "ABX9TyNTQ1DMs58W4Mb22Bg5vGOw",
      "include_colab_link": true
    },
    "kernelspec": {
      "name": "python3",
      "display_name": "Python 3"
    }
  },
  "cells": [
    {
      "cell_type": "markdown",
      "metadata": {
        "id": "view-in-github",
        "colab_type": "text"
      },
      "source": [
        "<a href=\"https://colab.research.google.com/github/Ruben-RL242/edd_1310_2021/blob/master/29septiembre.ipynb\" target=\"_parent\"><img src=\"https://colab.research.google.com/assets/colab-badge.svg\" alt=\"Open In Colab\"/></a>"
      ]
    },
    {
      "cell_type": "code",
      "metadata": {
        "id": "IknmkbyNsoB4"
      },
      "source": [
        "edad=10"
      ],
      "execution_count": 15,
      "outputs": []
    },
    {
      "cell_type": "code",
      "metadata": {
        "id": "PRBBES83vIdr",
        "outputId": "e1909c57-a827-46e9-80dc-159d201410d8",
        "colab": {
          "base_uri": "https://localhost:8080/",
          "height": 50
        }
      },
      "source": [
        "print(edad)\n",
        "colores=['rojo','azul','verde','morado','violeta']\n",
        "print(colores)"
      ],
      "execution_count": 16,
      "outputs": [
        {
          "output_type": "stream",
          "text": [
            "10\n",
            "['rojo', 'azul', 'verde', 'morado', 'violeta']\n"
          ],
          "name": "stdout"
        }
      ]
    },
    {
      "cell_type": "code",
      "metadata": {
        "id": "b5oBBYNJwcBN",
        "outputId": "33f4ed52-64b6-43f0-f7e7-dc74643579eb",
        "colab": {
          "base_uri": "https://localhost:8080/",
          "height": 35
        }
      },
      "source": [
        "colores[3]"
      ],
      "execution_count": 17,
      "outputs": [
        {
          "output_type": "execute_result",
          "data": {
            "application/vnd.google.colaboratory.intrinsic+json": {
              "type": "string"
            },
            "text/plain": [
              "'morado'"
            ]
          },
          "metadata": {
            "tags": []
          },
          "execution_count": 17
        }
      ]
    },
    {
      "cell_type": "code",
      "metadata": {
        "id": "hGocoWaDw6QE"
      },
      "source": [
        "#solo mostrar la \"ra de morado\"\n",
        "print(colores[3][2:4])\n",
        "nombre=\"Alberto\"\n",
        "print(nombre[0])\n",
        "print(nombre[0:3:1])"
      ],
      "execution_count": null,
      "outputs": []
    },
    {
      "cell_type": "markdown",
      "metadata": {
        "id": "QmwAL47pyKA5"
      },
      "source": [
        "# For en Phyton 3\n",
        "2 variante\n",
        "1. j in range(ini,tope,incremento)\n",
        "2. in<iterador>"
      ]
    },
    {
      "cell_type": "code",
      "metadata": {
        "id": "372iUAOjy1tn"
      },
      "source": [
        "for j in range(0,5,1):\n",
        "  print(colores [j])"
      ],
      "execution_count": null,
      "outputs": []
    },
    {
      "cell_type": "code",
      "metadata": {
        "id": "HNVkgRtfzzcD",
        "outputId": "e5db02af-06e0-45e6-d7b9-7c8658f2fc36",
        "colab": {
          "base_uri": "https://localhost:8080/",
          "height": 101
        }
      },
      "source": [
        "for color in colores:\n",
        "  print(color)"
      ],
      "execution_count": 20,
      "outputs": [
        {
          "output_type": "stream",
          "text": [
            "rojo\n",
            "azul\n",
            "verde\n",
            "morado\n",
            "violeta\n"
          ],
          "name": "stdout"
        }
      ]
    },
    {
      "cell_type": "code",
      "metadata": {
        "id": "vzj_hmq50mzD",
        "outputId": "f706f5e7-52d0-4a85-f584-d87ad76ed2df",
        "colab": {
          "base_uri": "https://localhost:8080/",
          "height": 134
        }
      },
      "source": [
        "for j in range (0,len(nombre),1):\n",
        "  print(nombre[j])"
      ],
      "execution_count": 22,
      "outputs": [
        {
          "output_type": "stream",
          "text": [
            "A\n",
            "l\n",
            "b\n",
            "e\n",
            "r\n",
            "t\n",
            "o\n"
          ],
          "name": "stdout"
        }
      ]
    },
    {
      "cell_type": "code",
      "metadata": {
        "id": "wMKs3__71RHG",
        "outputId": "2c7a47d0-2fed-464a-f174-1125a95b0b3e",
        "colab": {
          "base_uri": "https://localhost:8080/",
          "height": 134
        }
      },
      "source": [
        "for letra in nombre:\n",
        "  print(letra)"
      ],
      "execution_count": 23,
      "outputs": [
        {
          "output_type": "stream",
          "text": [
            "A\n",
            "l\n",
            "b\n",
            "e\n",
            "r\n",
            "t\n",
            "o\n"
          ],
          "name": "stdout"
        }
      ]
    },
    {
      "cell_type": "markdown",
      "metadata": {
        "id": "oIb89QQ01iQ1"
      },
      "source": [
        "# Que es Markdown\n",
        "Markdown es un lenguaje de marcado para documentar codigo. con el objetivo de simplificar la escritura de lenguaje HTML.\n",
        "___\n",
        "**negritas**\n",
        "---\n",
        "\n",
        "o\n",
        "***\n",
        "\n",
        "Mas informacion en [Github cheat]www.google.com\n",
        "___\n",
        "![FES](https://www.ecured.cu/Archivo:William_Watson.jpg)"
      ]
    }
  ]
}