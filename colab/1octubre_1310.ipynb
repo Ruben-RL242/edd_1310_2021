{
  "nbformat": 4,
  "nbformat_minor": 0,
  "metadata": {
    "colab": {
      "name": "1octubre_1310.ipynb",
      "provenance": [],
      "authorship_tag": "ABX9TyMhsPkWaTgUKOoecTJPJVFo",
      "include_colab_link": true
    },
    "kernelspec": {
      "name": "python3",
      "display_name": "Python 3"
    }
  },
  "cells": [
    {
      "cell_type": "markdown",
      "metadata": {
        "id": "view-in-github",
        "colab_type": "text"
      },
      "source": [
        "<a href=\"https://colab.research.google.com/github/Ruben-RL242/edd_1310_2021/blob/master/1octubre_1310.ipynb\" target=\"_parent\"><img src=\"https://colab.research.google.com/assets/colab-badge.svg\" alt=\"Open In Colab\"/></a>"
      ]
    },
    {
      "cell_type": "markdown",
      "metadata": {
        "id": "3x-ntkiG7tqs"
      },
      "source": [
        "##Intro Python 3\n",
        "###Variables\n",
        "Tipo dínamico\n",
        "\n",
        "`escuela=\"FES Aragón\"`"
      ]
    },
    {
      "cell_type": "code",
      "metadata": {
        "id": "1i2OhQd97_Wc",
        "outputId": "77d35549-4391-477c-ce55-b2038a8d2bef",
        "colab": {
          "base_uri": "https://localhost:8080/",
          "height": 185
        }
      },
      "source": [
        "escuela=\"FES Aragón\"\n",
        "print(escuela)\n",
        "print(\"---------\")\n",
        "edad=13\n",
        "estatura=1.67\n",
        "fumador=True\n",
        "frase=\"\"\"\n",
        "Esta es\n",
        "una\n",
        "frase de \n",
        "multiples lineas \n",
        "y tambien es \n",
        "un tipo de dato\n",
        "\"\"\"\n",
        "print(frase)\n",
        "nombre='jose'\n",
        "nombre_completo=\"jose sosa cardenas\"\n"
      ],
      "execution_count": 67,
      "outputs": [
        {
          "output_type": "stream",
          "text": [
            "FES Aragón\n",
            "---------\n",
            "\n",
            "Esta es\n",
            "una\n",
            "frase de \n",
            "multiples lineas \n",
            "y tambien es \n",
            "un tipo de dato\n",
            "\n"
          ],
          "name": "stdout"
        }
      ]
    },
    {
      "cell_type": "markdown",
      "metadata": {
        "id": "K9ngsIxR91Ly"
      },
      "source": [
        "#Print\n",
        "con comas ,\n",
        "con signo +\n",
        "con format ()\n",
        "con el operador f\"\""
      ]
    },
    {
      "cell_type": "code",
      "metadata": {
        "id": "JBLucIR190UL",
        "outputId": "0bbafa16-be20-4e04-fb15-a3bd05a07ec3",
        "colab": {
          "base_uri": "https://localhost:8080/",
          "height": 34
        }
      },
      "source": [
        "# el , sirve para imprimir mas de una variable y pone un espacio\n",
        "print(nombre,edad)"
      ],
      "execution_count": 68,
      "outputs": [
        {
          "output_type": "stream",
          "text": [
            "jose 13\n"
          ],
          "name": "stdout"
        }
      ]
    },
    {
      "cell_type": "code",
      "metadata": {
        "id": "8f9kuaMF_BIi",
        "outputId": "215f0f03-1882-4668-b60d-58958da4016b",
        "colab": {
          "base_uri": "https://localhost:8080/",
          "height": 50
        }
      },
      "source": [
        "# + para concatenar pero solo cadenas se tiene que convertir int en str\n",
        "print(nombre+str(edad))\n",
        "print(nombre + nombre_completo)"
      ],
      "execution_count": 69,
      "outputs": [
        {
          "output_type": "stream",
          "text": [
            "jose13\n",
            "josejose sosa cardenas\n"
          ],
          "name": "stdout"
        }
      ]
    },
    {
      "cell_type": "code",
      "metadata": {
        "id": "8slhfqTFAY88",
        "outputId": "7169e611-05c1-4d25-cf3a-d0bdad6d9a4c",
        "colab": {
          "base_uri": "https://localhost:8080/",
          "height": 67
        }
      },
      "source": [
        "#con formato -> Su nombre es Jose y su edad es de 13 años.\n",
        "print(\"su nombre es\",nombre,\"y su edad es de\",edad,\"años.\")\n",
        "print(\"su nombre es {0} y su edad es de {1} años.\".format(nombre,edad) )\n",
        "print(\"su nombre es {1} y su edad es de {0} años.\".format(nombre,edad) )"
      ],
      "execution_count": 70,
      "outputs": [
        {
          "output_type": "stream",
          "text": [
            "su nombre es jose y su edad es de 13 años.\n",
            "su nombre es jose y su edad es de 13 años.\n",
            "su nombre es 13 y su edad es de jose años.\n"
          ],
          "name": "stdout"
        }
      ]
    },
    {
      "cell_type": "code",
      "metadata": {
        "id": "jZ5JlEAWB6iO",
        "outputId": "908d165a-6ede-4b39-a82a-60fd62d04bda",
        "colab": {
          "base_uri": "https://localhost:8080/",
          "height": 34
        }
      },
      "source": [
        "#con formato con el operador f\"\"\n",
        "print(f\"Su nombre es {nombre} y su edad es de {edad} años.\")"
      ],
      "execution_count": 71,
      "outputs": [
        {
          "output_type": "stream",
          "text": [
            "Su nombre es jose y su edad es de 13 años.\n"
          ],
          "name": "stdout"
        }
      ]
    },
    {
      "cell_type": "markdown",
      "metadata": {
        "id": "n02_eRU5C8hO"
      },
      "source": [
        "#caracter especial\n",
        "\n",
        "\\n salto de linea\n",
        "\n",
        "\\t tabulador\n",
        "\n",
        "\\a beep\n",
        "\n",
        "\\\" imprimir comilla doble\n",
        "\n",
        "\\' imprimir comilla simple"
      ]
    },
    {
      "cell_type": "code",
      "metadata": {
        "id": "82jUmTHWDOJk",
        "outputId": "541449da-3ea0-4917-b018-e737e55da9b7",
        "colab": {
          "base_uri": "https://localhost:8080/",
          "height": 50
        }
      },
      "source": [
        "\"\"\"\n",
        "Esto es \n",
        "un comentario\n",
        "de múltiple línea\n",
        "tan tan \n",
        "\"\"\"\n",
        "print(f\"\\tMi nombre es\\n\\t\\t{nombre}\")"
      ],
      "execution_count": 72,
      "outputs": [
        {
          "output_type": "stream",
          "text": [
            "\tMi nombre es\n",
            "\t\tjose\n"
          ],
          "name": "stdout"
        }
      ]
    },
    {
      "cell_type": "markdown",
      "metadata": {
        "id": "6XNOsik8DqRj"
      },
      "source": [
        "#Ayuda de tipos de dato en Phyton\n",
        "\n",
        "dir()\n",
        "\n",
        "help()\n"
      ]
    },
    {
      "cell_type": "code",
      "metadata": {
        "id": "K3vJ05iqEJbz"
      },
      "source": [
        "#str, int, float, bool, list, dict, set......\n",
        "help(str)"
      ],
      "execution_count": null,
      "outputs": []
    },
    {
      "cell_type": "code",
      "metadata": {
        "id": "5jgvpmFOFK39",
        "outputId": "bdb73bd5-5d89-4f56-eea3-41d8409fd9d7",
        "colab": {
          "base_uri": "https://localhost:8080/",
          "height": 50
        }
      },
      "source": [
        "print(nombre_completo.capitalize())\n",
        "print(nombre_completo.upper(), end=\"-----\")\n",
        "print(nombre_completo.title())"
      ],
      "execution_count": 77,
      "outputs": [
        {
          "output_type": "stream",
          "text": [
            "Jose sosa cardenas\n",
            "JOSE SOSA CARDENAS-----Jose Sosa Cardenas\n"
          ],
          "name": "stdout"
        }
      ]
    },
    {
      "cell_type": "code",
      "metadata": {
        "id": "R2Cy_GuLGdP_"
      },
      "source": [
        "help(print)"
      ],
      "execution_count": null,
      "outputs": []
    },
    {
      "cell_type": "markdown",
      "metadata": {
        "id": "_AFaW8DBHz1T"
      },
      "source": [
        "#clase String\n",
        "\n",
        "Es manejada como un arreglo (c o java) o lista (phyton)"
      ]
    },
    {
      "cell_type": "code",
      "metadata": {
        "id": "Looi_VdFGj9s",
        "outputId": "1a768c1d-d078-48dd-cb57-ea0eae196c36",
        "colab": {
          "base_uri": "https://localhost:8080/",
          "height": 34
        }
      },
      "source": [
        "telefono=\"Huawei mate 30 pro\"\n",
        "print(telefono[5])"
      ],
      "execution_count": 84,
      "outputs": [
        {
          "output_type": "stream",
          "text": [
            "i\n"
          ],
          "name": "stdout"
        }
      ]
    },
    {
      "cell_type": "markdown",
      "metadata": {
        "id": "j7AhAmx3II3S"
      },
      "source": [
        "#Slicing (rebanado)\n",
        "\n",
        "[ini:stop:incremento]\n",
        "stop no se incluye, termina en el valor anterior al stop.\n",
        "El inicio y el incremento son opcionales."
      ]
    },
    {
      "cell_type": "code",
      "metadata": {
        "id": "SS0n_eSfIIa_",
        "outputId": "2efb9149-aced-40c6-a452-72d49024f18c",
        "colab": {
          "base_uri": "https://localhost:8080/",
          "height": 101
        }
      },
      "source": [
        "print(telefono[7:11:1])\n",
        "#El inicio y el incremento son opcionales\n",
        "print(telefono[:11:])\n",
        "#el valor por defecto de stop es len(str)\n",
        "print(telefono[::])\n",
        "#incremento negativo\n",
        "print(telefono[::-1])\n",
        "print(telefono[-3::1])"
      ],
      "execution_count": 88,
      "outputs": [
        {
          "output_type": "stream",
          "text": [
            "mate\n",
            "Huawei mate\n",
            "Huawei mate 30 pro\n",
            "orp 03 etam iewauH\n",
            "pro\n"
          ],
          "name": "stdout"
        }
      ]
    },
    {
      "cell_type": "markdown",
      "metadata": {
        "id": "y-7oAoDcNOtt"
      },
      "source": [
        "# Métodos de string (str)\n",
        "existe métodos muy útiles en esta clase"
      ]
    },
    {
      "cell_type": "code",
      "metadata": {
        "id": "tJqx2vTCNZRp",
        "outputId": "b7d44c73-7720-4149-e233-93ea5d1d1c2c",
        "colab": {
          "base_uri": "https://localhost:8080/",
          "height": 319
        }
      },
      "source": [
        "facultad=\"     facultad de estudios superiores aragon \\n     \"\n",
        "print(facultad.count(\"z\"))#cuenta el numero de elemento que queramos\n",
        "print(facultad.find(\"s\"))#busca la posicion del elemento que queramos\n",
        "print(facultad.strip())#quita los espacios en blanco y saltos de linea\n",
        "tamaño=len(facultad)\n",
        "print(f\"tamaño de la cadena es {tamaño} caracteres\")\n",
        "print(len(facultad))#longitud de string\n",
        "print(facultad)\n",
        "print(facultad.strip().split(\" \"))#hace un corte el el caracter seleccionado\n",
        "\n",
        "print(\"------------\")\n",
        "#copia de cadenas\n",
        "otra_cadena=facultad\n",
        "print(otra_cadena)\n",
        "facultad=\"FES Aragón\"\n",
        "print(facultad)\n",
        "print(otra_cadena)\n",
        "\n",
        "#copiar listas\n",
        "colores=[\"rojo\",\"verde\"]\n",
        "otra=colores.copy()\n",
        "print(colores)\n",
        "print(otra)\n",
        "otra.append(\"rosa\")\n",
        "print(colores)\n",
        "print(otra)\n"
      ],
      "execution_count": 114,
      "outputs": [
        {
          "output_type": "stream",
          "text": [
            "0\n",
            "18\n",
            "facultad de estudios superiores aragon\n",
            "tamaño de la cadena es 50 caracteres\n",
            "50\n",
            "     facultad de estudios superiores aragon \n",
            "     \n",
            "['facultad', 'de', 'estudios', 'superiores', 'aragon']\n",
            "------------\n",
            "     facultad de estudios superiores aragon \n",
            "     \n",
            "FES Aragón\n",
            "     facultad de estudios superiores aragon \n",
            "     \n",
            "['rojo', 'verde']\n",
            "['rojo', 'verde']\n",
            "['rojo', 'verde']\n",
            "['rojo', 'verde', 'rosa']\n"
          ],
          "name": "stdout"
        }
      ]
    }
  ]
}