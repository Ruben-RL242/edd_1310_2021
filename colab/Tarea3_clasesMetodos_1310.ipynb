{
  "nbformat": 4,
  "nbformat_minor": 0,
  "metadata": {
    "colab": {
      "name": "Tarea3_clasesMetodos_1310.ipynb",
      "provenance": [],
      "authorship_tag": "ABX9TyPhJ1J1xNKDv8EtLt5JTEM1",
      "include_colab_link": true
    },
    "kernelspec": {
      "name": "python3",
      "display_name": "Python 3"
    }
  },
  "cells": [
    {
      "cell_type": "markdown",
      "metadata": {
        "id": "view-in-github",
        "colab_type": "text"
      },
      "source": [
        "<a href=\"https://colab.research.google.com/github/Ruben-RL242/edd_1310_2021/blob/master/Tarea3_clasesMetodos_1310.ipynb\" target=\"_parent\"><img src=\"https://colab.research.google.com/assets/colab-badge.svg\" alt=\"Open In Colab\"/></a>"
      ]
    },
    {
      "cell_type": "code",
      "metadata": {
        "id": "8zi7RkivFb_L",
        "outputId": "4ba9a2ee-1730-401f-84b6-64a3de25467c",
        "colab": {
          "base_uri": "https://localhost:8080/",
          "height": 108
        }
      },
      "source": [
        "class Persona:\n",
        "    def __init__( self , n , ed , es ):\n",
        "        self.__nombre=n\n",
        "        self.__edad=ed\n",
        "        self.__estatura=es\n",
        "    \n",
        "    def to_string( self ):\n",
        "      return \"Nombre: \"+self.__nombre+\" \\nEdad: \"+self.__edad+\" \\nEstatura: \"+self.__estatura\n",
        "\n",
        "    def dormir(self):\n",
        "      return self.__nombre+\" esta durmiendo\"\n",
        "\n",
        "    def comer(self):\n",
        "      return self.__nombre+\" esta comiendo\"\n",
        "\n",
        "persona1= Persona(\"Ruben\",\"21\",\"1.70\")\n",
        "print(persona1.to_string())\n",
        "print(persona1.dormir())\n",
        "print(persona1.comer())"
      ],
      "execution_count": 11,
      "outputs": [
        {
          "output_type": "stream",
          "text": [
            "Nombre: Ruben \n",
            "Edad: 21 \n",
            "Estatura: 1.70\n",
            "Ruben esta durmiendo\n",
            "Ruben esta comiendo\n"
          ],
          "name": "stdout"
        }
      ]
    },
    {
      "cell_type": "code",
      "metadata": {
        "id": "jIJSBeGKBbMY",
        "outputId": "4ca9a573-70f7-4300-cba7-64e64f3361c3",
        "colab": {
          "base_uri": "https://localhost:8080/",
          "height": 108
        }
      },
      "source": [
        "class Celular:\n",
        "    def __init__( self , ma , mo , e ):\n",
        "        self.__marca=ma\n",
        "        self.__modelo=mo\n",
        "        self.__espacioDeMemoria=e\n",
        "    \n",
        "    def to_string( self ):\n",
        "      return \"Marca: \"+self.__marca+\" \\nModelo: \"+self.__modelo+\"\\nEspacio de memoria: \"+self.__espacioDeMemoria\n",
        "\n",
        "    def llamar(self):\n",
        "      return \"El celular marca: \"+self.__marca+\" esta llamando\"\n",
        "\n",
        "    def ponerAlarma(self):\n",
        "      return \"El celular modelo \"+self.__modelo+\" se programo una alarma\"\n",
        "\n",
        "celular_1 =Celular(\"Motorola\",\"Moto Z\",\"32 GB\")\n",
        "print(celular_1.to_string())\n",
        "print(celular_1.llamar())\n",
        "print(celular_1.ponerAlarma())"
      ],
      "execution_count": 13,
      "outputs": [
        {
          "output_type": "stream",
          "text": [
            "Marca: Motorola \n",
            "Modelo: Moto Z\n",
            "Espacio de memoria: 32 GB\n",
            "El celular marca: Motorola esta llamando\n",
            "El celular modelo Moto Z se programo una alarma\n"
          ],
          "name": "stdout"
        }
      ]
    }
  ]
}