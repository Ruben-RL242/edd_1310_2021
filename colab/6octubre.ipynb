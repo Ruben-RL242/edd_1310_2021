{
  "nbformat": 4,
  "nbformat_minor": 0,
  "metadata": {
    "colab": {
      "name": "6octubre.ipynb",
      "provenance": [],
      "collapsed_sections": [],
      "authorship_tag": "ABX9TyNOKlLps0BGUmW9aYIIjQf+",
      "include_colab_link": true
    },
    "kernelspec": {
      "name": "python3",
      "display_name": "Python 3"
    }
  },
  "cells": [
    {
      "cell_type": "markdown",
      "metadata": {
        "id": "view-in-github",
        "colab_type": "text"
      },
      "source": [
        "<a href=\"https://colab.research.google.com/github/Ruben-RL242/edd_1310_2021/blob/master/6octubre.ipynb\" target=\"_parent\"><img src=\"https://colab.research.google.com/assets/colab-badge.svg\" alt=\"Open In Colab\"/></a>"
      ]
    },
    {
      "cell_type": "code",
      "metadata": {
        "id": "k0FqarCs7t5y",
        "outputId": "c76eda5e-0e35-42d6-cbc2-3de8fb85c399",
        "colab": {
          "base_uri": "https://localhost:8080/",
          "height": 363
        }
      },
      "source": [
        "#String continuación\n",
        "\n",
        "numeros_txt=\"    1, 2, 3, 4   , 5   , 35   ,  15  ,  12\"\n",
        "print(numeros_txt)\n",
        "numeros_txt=numeros_txt.lstrip().split(',')\n",
        "print(numeros_txt)\n",
        "\n",
        "for j in range(len(numeros_txt)):\n",
        "  numeros_txt[j]=int(numeros_txt[j].strip())\n",
        "\n",
        "#for en c for(int j=0;j<8;j++){\n",
        "#   asdasd   \n",
        "#}\n",
        "\n",
        "print(numeros_txt)\n",
        "\n",
        "#funcion range\n",
        "\n",
        "#range(inicio,stop,incremento)\n",
        "print(range(0,10,1))\n",
        "rango=range(1,10,2)\n",
        "\n",
        "for x in rango:\n",
        "  print(x)\n",
        "\n",
        "rango=range(10)\n",
        "for x in rango:\n",
        "  print(x)"
      ],
      "execution_count": 2,
      "outputs": [
        {
          "output_type": "stream",
          "text": [
            "    1, 2, 3, 4   , 5   , 35   ,  15  ,  12\n",
            "['1', ' 2', ' 3', ' 4   ', ' 5   ', ' 35   ', '  15  ', '  12']\n",
            "[1, 2, 3, 4, 5, 35, 15, 12]\n",
            "range(0, 10)\n",
            "1\n",
            "3\n",
            "5\n",
            "7\n",
            "9\n",
            "0\n",
            "1\n",
            "2\n",
            "3\n",
            "4\n",
            "5\n",
            "6\n",
            "7\n",
            "8\n",
            "9\n"
          ],
          "name": "stdout"
        }
      ]
    },
    {
      "cell_type": "markdown",
      "metadata": {
        "id": "mX7a916i70gz"
      },
      "source": [
        "#listas\n",
        "- mutables\n",
        "- declaran con []\n",
        "- selector [ int ]\n",
        "- pueden se de cualquier tipo de variable\n",
        "\n",
        "#tuplas\n",
        "- NO mutables\n",
        "- declaran con ()\n",
        "- slectors [ int ]\n",
        "\n",
        "#diccionarios\n",
        "- son mutables\n",
        "- son conjunto de pares llaves:valor\n",
        "- Equivalentes a los objetos JSON de JS\n",
        "\n",
        "#conjuntos\n",
        "- representacion de la teoria de conjuntos\n"
      ]
    },
    {
      "cell_type": "code",
      "metadata": {
        "id": "0fdQOJvr73Lv",
        "outputId": "6a4efde1-3b25-442a-b173-759a14aa1b36",
        "colab": {
          "base_uri": "https://localhost:8080/",
          "height": 145
        }
      },
      "source": [
        "#listas (equivalentes a arreglos en otros lenguajes de programacion)\n",
        "frutas=[\"Pera\" , \"Manzana\" , \"fresa\" , \"Kiwi\" , \"Naranka\"]\n",
        "print(frutas)\n",
        "cosas=[\"Cuaderno\" , 2 , 3.1416 , True , False , [\"Rojo\" , \"Azul\"] ]\n",
        "print(cosas)\n",
        "#mutabla cambiamos cualquier posicion\n",
        "frutas[2]=\"Fresa\"   #frutas[2]=frutas.capitaliza()\n",
        "print(frutas)\n",
        "#agregar a lista\n",
        "frutas.append(\"Aguacate\")\n",
        "print(frutas)\n",
        "frutas.insert(2,\"sandia\")\n",
        "print(frutas)\n",
        "\n",
        "#concatenar listas\n",
        "fecha=[\"06\" , \"10\" , \"2020\"] #06/10/2020\n",
        "print(fecha)\n",
        "fecha_str=\"/\".join(fecha)\n",
        "print(fecha_str)"
      ],
      "execution_count": 3,
      "outputs": [
        {
          "output_type": "stream",
          "text": [
            "['Pera', 'Manzana', 'fresa', 'Kiwi', 'Naranka']\n",
            "['Cuaderno', 2, 3.1416, True, False, ['Rojo', 'Azul']]\n",
            "['Pera', 'Manzana', 'Fresa', 'Kiwi', 'Naranka']\n",
            "['Pera', 'Manzana', 'Fresa', 'Kiwi', 'Naranka', 'Aguacate']\n",
            "['Pera', 'Manzana', 'sandia', 'Fresa', 'Kiwi', 'Naranka', 'Aguacate']\n",
            "['06', '10', '2020']\n",
            "06/10/2020\n"
          ],
          "name": "stdout"
        }
      ]
    },
    {
      "cell_type": "code",
      "metadata": {
        "id": "qHmmbFBm76z4",
        "outputId": "5e878a4f-ac6d-4387-b191-052dcba96ce7",
        "colab": {
          "base_uri": "https://localhost:8080/",
          "height": 199
        }
      },
      "source": [
        "#eliminar elementos\n",
        "cosas=[\"Cuaderno\" , 2 , 3.1416 , True , False , [\"Rojo\" , \"Azul\"] ]\n",
        "print(cosas)\n",
        "cosas.append(\"Libro\")\n",
        "cosas.append(\"Lapiz\")\n",
        "print(cosas)\n",
        "algo=cosas.pop()\n",
        "print(cosas)\n",
        "print(algo)\n",
        "\n",
        "algo=cosas.pop(2)\n",
        "print(cosas)\n",
        "print(algo)\n",
        "#remove\n",
        "cosas.remove(2)\n",
        "print(cosas)\n",
        "#vaciar una lista\n",
        "#cosas.clear()\n",
        "print(cosas)\n",
        "frutas[4]=\"Naranja\"\n",
        "#ordenar \n",
        "print(frutas)\n",
        "frutas.sort()\n",
        "print(frutas)\n"
      ],
      "execution_count": 4,
      "outputs": [
        {
          "output_type": "stream",
          "text": [
            "['Cuaderno', 2, 3.1416, True, False, ['Rojo', 'Azul']]\n",
            "['Cuaderno', 2, 3.1416, True, False, ['Rojo', 'Azul'], 'Libro', 'Lapiz']\n",
            "['Cuaderno', 2, 3.1416, True, False, ['Rojo', 'Azul'], 'Libro']\n",
            "Lapiz\n",
            "['Cuaderno', 2, True, False, ['Rojo', 'Azul'], 'Libro']\n",
            "3.1416\n",
            "['Cuaderno', True, False, ['Rojo', 'Azul'], 'Libro']\n",
            "['Cuaderno', True, False, ['Rojo', 'Azul'], 'Libro']\n",
            "['Pera', 'Manzana', 'sandia', 'Fresa', 'Naranja', 'Naranka', 'Aguacate']\n",
            "['Aguacate', 'Fresa', 'Manzana', 'Naranja', 'Naranka', 'Pera', 'sandia']\n"
          ],
          "name": "stdout"
        }
      ]
    },
    {
      "cell_type": "code",
      "metadata": {
        "id": "FIQbNgx078xh",
        "outputId": "6c916c9a-2aae-45d4-da85-ea0c44462800",
        "colab": {
          "base_uri": "https://localhost:8080/",
          "height": 126
        }
      },
      "source": [
        "#Slicing\n",
        "\n",
        "cosas=[\"Cuaderno\" , 2 , 3.1416 , True , False , [\"Rojo\" , \"Azul\"]]\n",
        "print(cosas[3:5:1])\n",
        "print(cosas)\n",
        "print(cosas[0][3:5:1])\n",
        "\n",
        "numeros=[0,1,2,3,4,5,6,7,8,9,10,11,12,13,14,15]\n",
        "print(numeros[7:12:1])\n",
        "\n",
        "#sustituir rebanadas\n",
        "numeros[8:13:]=[-2,-2]\n",
        "print(numeros)\n",
        "\n",
        "#preguntar por existencia\n",
        "\n",
        "print(-28 in numeros)"
      ],
      "execution_count": 16,
      "outputs": [
        {
          "output_type": "stream",
          "text": [
            "[True, False]\n",
            "['Cuaderno', 2, 3.1416, True, False, ['Rojo', 'Azul']]\n",
            "de\n",
            "[7, 8, 9, 10, 11]\n",
            "[0, 1, 2, 3, 4, 5, 6, 7, -2, -2, 13, 14, 15]\n",
            "False\n"
          ],
          "name": "stdout"
        }
      ]
    },
    {
      "cell_type": "markdown",
      "metadata": {
        "id": "T6JT1JlW-iuQ"
      },
      "source": [
        "#listas multi dimensión\n",
        "\n",
        "lista dentro de listas"
      ]
    },
    {
      "cell_type": "code",
      "metadata": {
        "id": "RgnUOr6Q-iKH",
        "outputId": "b17ca07d-8aaf-4fef-81e8-423ec2bd4b63",
        "colab": {
          "base_uri": "https://localhost:8080/",
          "height": 219
        }
      },
      "source": [
        "computadoras=[\"HP\" , \"Mac Book Pro 17\" , \"Mate book\" , \"Lenovo legion\"]\n",
        "oss=[\"Windows 10\" , \"Linux\" , \"Android\" , \"iOS\" ]\n",
        "computo=[computadoras, oss]\n",
        "print(computo[0])\n",
        "print(computo[1])\n",
        "print(computo[0][2])\n",
        "print(computo[0][2][0:5])\n",
        "print(computo[0][3][5::-1])\n",
        "print(computo[0][3][-8::-1])\n",
        "print(\"Linux\" in computo[1])\n",
        "dbms=[[\"Mysql\" , \"Open Source\" , False] , [\"MS SQL Server\" , \"de paga\" , True] ]\n",
        "computo.append(dbms)\n",
        "print(computo)\n",
        "print(computo[2][0][0])\n",
        "print(computo[2][1][1])"
      ],
      "execution_count": 36,
      "outputs": [
        {
          "output_type": "stream",
          "text": [
            "['HP', 'Mac Book Pro 17', 'Mate book', 'Lenovo legion']\n",
            "['Windows 10', 'Linux', 'Android', 'iOS']\n",
            "Mate book\n",
            "Mate \n",
            "ovoneL\n",
            "ovoneL\n",
            "True\n",
            "[['HP', 'Mac Book Pro 17', 'Mate book', 'Lenovo legion'], ['Windows 10', 'Linux', 'Android', 'iOS'], [['Mysql', 'Open Source', False], ['MS SQL Server', 'de paga', True]]]\n",
            "Mysql\n",
            "de paga\n"
          ],
          "name": "stdout"
        }
      ]
    }
  ]
}