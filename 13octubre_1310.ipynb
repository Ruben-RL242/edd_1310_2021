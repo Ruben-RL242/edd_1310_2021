{
  "nbformat": 4,
  "nbformat_minor": 0,
  "metadata": {
    "colab": {
      "name": "13octubre_1310.ipynb",
      "provenance": [],
      "authorship_tag": "ABX9TyNrhRDXwxpCB1smjpA/a4YU",
      "include_colab_link": true
    },
    "kernelspec": {
      "name": "python3",
      "display_name": "Python 3"
    }
  },
  "cells": [
    {
      "cell_type": "markdown",
      "metadata": {
        "id": "view-in-github",
        "colab_type": "text"
      },
      "source": [
        "<a href=\"https://colab.research.google.com/github/Ruben-RL242/edd_1310_2021/blob/master/13octubre_1310.ipynb\" target=\"_parent\"><img src=\"https://colab.research.google.com/assets/colab-badge.svg\" alt=\"Open In Colab\"/></a>"
      ]
    },
    {
      "cell_type": "code",
      "metadata": {
        "id": "i6cPr8iNuIqT",
        "outputId": "4ee7129d-36e0-458a-dc93-5d8f3b8323ef",
        "colab": {
          "base_uri": "https://localhost:8080/",
          "height": 110
        }
      },
      "source": [
        "alumno = { \n",
        "          \"num_cta\" : 303030303 ,\n",
        "          \"carrera\" : \"ICO\",\n",
        "          \"promedio\" : 9.8,\n",
        "          \"materias\" :[\"EDD\",\"CyP\",\"Calidad\",\"Emprendimiento\"],\n",
        "          \"direccion\" : { \n",
        "                            \"calle\":\"rancho seco\",\n",
        "                            \"numero\" : 23 ,\n",
        "                            \"delegacion\" : \"Neza\",\n",
        "                            \"estado\" : {\n",
        "                                        \"id\" : 15 ,\n",
        "                                        \"nombre\" : \"Estado de Máxico\" ,\n",
        "                                        \"nombre_corto\" : \"EdoMex\"\n",
        "                                        } ,\n",
        "                            \"CP\":57170\n",
        "\n",
        "                        } \n",
        "          }\n",
        "print(alumno)\n",
        "alumno['carrera']=\"Ingenieria en computacion\"\n",
        "print(alumno)\n",
        "alumno['nombre_completo']={'primer' :\"Juan\" ,\n",
        "                           'segundo' :\"Pedro\" ,\n",
        "                           'materno' :\"Perez\" ,\n",
        "                           'paterno' :\"Gomez\"\n",
        "                           }\n",
        "alumno['semestre']=3\n",
        "print(alumno)\n",
        "\n",
        "print(f\"{alumno['nombre_completo']['primer']} {alumno['nombre_completo']['segundo']} {alumno['nombre_completo']['materno']}{alumno['nombre_completo']['paterno']}\")"
      ],
      "execution_count": null,
      "outputs": [
        {
          "output_type": "stream",
          "text": [
            "{'num_cta': 303030303, 'carrera': 'ICO', 'promedio': 9.8, 'materias': ['EDD', 'CyP', 'Calidad', 'Emprendimiento'], 'direccion': {'calle': 'rancho seco', 'numero': 23, 'delegacion': 'Neza', 'estado': {'id': 15, 'nombre': 'Estado de Máxico', 'nombre_corto': 'EdoMex'}, 'CP': 57170}}\n",
            "{'num_cta': 303030303, 'carrera': 'Ingenieria en computacion', 'promedio': 9.8, 'materias': ['EDD', 'CyP', 'Calidad', 'Emprendimiento'], 'direccion': {'calle': 'rancho seco', 'numero': 23, 'delegacion': 'Neza', 'estado': {'id': 15, 'nombre': 'Estado de Máxico', 'nombre_corto': 'EdoMex'}, 'CP': 57170}}\n",
            "{'num_cta': 303030303, 'carrera': 'Ingenieria en computacion', 'promedio': 9.8, 'materias': ['EDD', 'CyP', 'Calidad', 'Emprendimiento'], 'direccion': {'calle': 'rancho seco', 'numero': 23, 'delegacion': 'Neza', 'estado': {'id': 15, 'nombre': 'Estado de Máxico', 'nombre_corto': 'EdoMex'}, 'CP': 57170}, 'nombre_completo': {'primer': 'Juan', 'segundo': 'Pedro', 'materno': 'Perez', 'paterno': 'Gomez'}, 'semestre': 3}\n",
            "Juan Pedro PerezGomez\n"
          ],
          "name": "stdout"
        }
      ]
    },
    {
      "cell_type": "code",
      "metadata": {
        "id": "FTHBAC1VyBCB",
        "outputId": "3ee0c224-c35e-4061-d5ea-e71613e220ce",
        "colab": {
          "base_uri": "https://localhost:8080/",
          "height": 455
        }
      },
      "source": [
        "#key(), values(), items()\n",
        "\n",
        "llaves=alumno.keys()\n",
        "print(llaves)\n",
        "for llave in llaves:\n",
        "  print(llave.upper())\n",
        "\n",
        "valores=alumno.values()\n",
        "for val in valores:\n",
        "  print(val)\n",
        "\n",
        "pares=alumno.items()\n",
        "print(pares)\n",
        "for elem in pares:\n",
        "  print(f\"el campo { elem[0]} tiene el valor { elem[1]}\")"
      ],
      "execution_count": 13,
      "outputs": [
        {
          "output_type": "stream",
          "text": [
            "dict_keys(['num_cta', 'carrera', 'promedio', 'materias', 'direccion', 'nombre_completo', 'semestre'])\n",
            "NUM_CTA\n",
            "CARRERA\n",
            "PROMEDIO\n",
            "MATERIAS\n",
            "DIRECCION\n",
            "NOMBRE_COMPLETO\n",
            "SEMESTRE\n",
            "303030303\n",
            "Ingenieria en computacion\n",
            "9.8\n",
            "['EDD', 'CyP', 'Calidad', 'Emprendimiento']\n",
            "{'calle': 'rancho seco', 'numero': 23, 'delegacion': 'Neza', 'estado': {'id': 15, 'nombre': 'Estado de Máxico', 'nombre_corto': 'EdoMex'}, 'CP': 57170}\n",
            "{'primer': 'Juan', 'segundo': 'Pedro', 'materno': 'Perez', 'paterno': 'Gomez'}\n",
            "3\n",
            "dict_items([('num_cta', 303030303), ('carrera', 'Ingenieria en computacion'), ('promedio', 9.8), ('materias', ['EDD', 'CyP', 'Calidad', 'Emprendimiento']), ('direccion', {'calle': 'rancho seco', 'numero': 23, 'delegacion': 'Neza', 'estado': {'id': 15, 'nombre': 'Estado de Máxico', 'nombre_corto': 'EdoMex'}, 'CP': 57170}), ('nombre_completo', {'primer': 'Juan', 'segundo': 'Pedro', 'materno': 'Perez', 'paterno': 'Gomez'}), ('semestre', 3)])\n",
            "el campo num_cta tiene el valor 303030303\n",
            "el campo carrera tiene el valor Ingenieria en computacion\n",
            "el campo promedio tiene el valor 9.8\n",
            "el campo materias tiene el valor ['EDD', 'CyP', 'Calidad', 'Emprendimiento']\n",
            "el campo direccion tiene el valor {'calle': 'rancho seco', 'numero': 23, 'delegacion': 'Neza', 'estado': {'id': 15, 'nombre': 'Estado de Máxico', 'nombre_corto': 'EdoMex'}, 'CP': 57170}\n",
            "el campo nombre_completo tiene el valor {'primer': 'Juan', 'segundo': 'Pedro', 'materno': 'Perez', 'paterno': 'Gomez'}\n",
            "el campo semestre tiene el valor 3\n"
          ],
          "name": "stdout"
        }
      ]
    },
    {
      "cell_type": "code",
      "metadata": {
        "id": "LQxpADfX09w4",
        "outputId": "843334cc-de39-4248-b24f-b1e599b0f545",
        "colab": {
          "base_uri": "https://localhost:8080/",
          "height": 55
        }
      },
      "source": [
        "#Concatenar 2 diccionarios\n",
        "computadora={\"procesador\":\"Intel i7\",\"ram\":\"Kingston 128GB\"}\n",
        "otros={\"monitor\":\"LG 49\\\"\",\"hd\":\"Toshiba 1TB\"}\n",
        "computadora.update(otros)\n",
        "print(computadora)"
      ],
      "execution_count": 16,
      "outputs": [
        {
          "output_type": "stream",
          "text": [
            "{'procesador': 'Intel i7', 'ram': 'Kingston 128GB', 'monitor': 'LG 49\"', 'hd': 'Toshiba 1TB'}\n"
          ],
          "name": "stdout"
        }
      ]
    },
    {
      "cell_type": "markdown",
      "metadata": {
        "id": "BhFSD42m2p6o"
      },
      "source": [
        "# Funciones\n",
        "- unidades de código reutilizable\n",
        "- es un mecanismo de organizacion de codigo\n",
        "- una funcion toma de 0 a n parametros de entrada\n",
        "-tiene una sola salida (return) de cualquier tipo de dato\n",
        "- solo puedes hacer dos cosas:\n",
        " -  definirla\n",
        " -  llamarla\n",
        "- se definen con la palabra reservada 'def'\n"
      ]
    },
    {
      "cell_type": "code",
      "metadata": {
        "id": "0UjNrbaG35SI",
        "outputId": "412ab5cf-571c-47b2-9ae6-41abd0c92da6",
        "colab": {
          "base_uri": "https://localhost:8080/",
          "height": 217
        }
      },
      "source": [
        "def sumar(x,y):\n",
        "  resultado=x+y\n",
        "  return resultado\n",
        "\n",
        "def saludar( nombre ):\n",
        "  print(f\"Hola {nombre}, ¿Como estas?\")\n",
        "  return None\n",
        "\n",
        "def multiplicar(valor , veces):\n",
        "  if valor != None:\n",
        "    c=valor*veces\n",
        "  else:\n",
        "    c=\"operacion no valida\"\n",
        "  return c\n",
        "\n",
        "def operacion(a,b,c):\n",
        "  res=a+(b/c)\n",
        "  return res\n",
        "\n",
        "\n",
        "\n",
        "print(sumar(10,15))\n",
        "print(sumar(5,8))\n",
        "c=sumar(3,7)\n",
        "print(c)\n",
        "saludar(\"Ruben\")\n",
        "print(saludar('jose'))\n",
        "print(multiplicar(5,6))\n",
        "print(multiplicar(None,4))\n",
        "print(operacion(2,9,3))\n",
        "print(operacion (2,3,9))\n",
        "print(operacion(a=2,c=3,b=9))"
      ],
      "execution_count": 28,
      "outputs": [
        {
          "output_type": "stream",
          "text": [
            "25\n",
            "13\n",
            "10\n",
            "Hola Ruben, ¿Como estas?\n",
            "Hola jose, ¿Como estas?\n",
            "None\n",
            "30\n",
            "operacion no valida\n",
            "5.0\n",
            "2.3333333333333335\n",
            "5.0\n"
          ],
          "name": "stdout"
        }
      ]
    },
    {
      "cell_type": "code",
      "metadata": {
        "id": "9LWtp4h2-f4S",
        "outputId": "6bf4abae-5ae6-4a59-cbb7-fbe47983da03",
        "colab": {
          "base_uri": "https://localhost:8080/",
          "height": 310
        }
      },
      "source": [
        "#valores por defecto\n",
        "def comanda(primer , fuerte , postre=\"Galleta de animalito\"):\n",
        "  print(f\"De entrada pidio:{ primer }\")\n",
        "  print(f\"De plato fuerte:{ fuerte }\")\n",
        "  print(f\"De postre:{ postre }\")\n",
        "\n",
        "  # argumentos posicionales con tuplas *\n",
        "def comanda_2(*opciones):\n",
        "  print(opciones)\n",
        "  print(f\"De entrada pidio: {opciones[0]}\")\n",
        "  print(f\"De plato fuerte pidio: {opciones[1]}\")\n",
        "  print(f\"De postre pidio: {opciones[2]}\")\n",
        "  print(\"\\nindicaciones extra\")\n",
        "  for ind in opciones[3::]:\n",
        "    print(f\"\\t {ind}\")\n",
        "\n",
        "comanda(\"sopa aguada\",\"Tortas de papa\",\"Gelatina de limon\")\n",
        "comanda(\"sopa aguada\",\"Tortas de papa\")\n",
        "comanda_2(\"sopa aguada\",\"Tortas de papa\",\"Gelatina de limon\",\n",
        "          \"las tortas bien doradas\",\"traer 2 limones\",\"Agua con hielo\")\n",
        "\n",
        "\n"
      ],
      "execution_count": 37,
      "outputs": [
        {
          "output_type": "stream",
          "text": [
            "De entrada pidio:sopa aguada\n",
            "De plato fuerte:Tortas de papa\n",
            "De postre:Gelatina de limon\n",
            "De entrada pidio:sopa aguada\n",
            "De plato fuerte:Tortas de papa\n",
            "De postre:Galleta de animalito\n",
            "('sopa aguada', 'Tortas de papa', 'Gelatina de limon', 'las tortas bien doradas', 'traer 2 limones', 'Agua con hielo')\n",
            "De entrada pidio: sopa aguada\n",
            "De plato fuerte pidio: Tortas de papa\n",
            "De postre pidio: Gelatina de limon\n",
            "\n",
            "indicaciones extra\n",
            "\t las tortas bien doradas\n",
            "\t traer 2 limones\n",
            "\t Agua con hielo\n"
          ],
          "name": "stdout"
        }
      ]
    },
    {
      "cell_type": "code",
      "metadata": {
        "id": "BxjiKy6bB42w",
        "outputId": "0e81b15e-edc0-45e9-9b31-2e0516b1a3c5",
        "colab": {
          "base_uri": "https://localhost:8080/",
          "height": 165
        }
      },
      "source": [
        "#argumentos posicionales con diccionarios **\n",
        "def comanda_3(**opciones):\n",
        "  print(opciones)\n",
        "  for op in opciones.items():\n",
        "    print(f\"{op[0]}->{op[1]}\")\n",
        "\n",
        "comanda_3(primer=\"sopa aguada\",fuerte=\"Tortas de papa\",postre=\"Gelatina de limon\",\n",
        "          extra1=\"las tortas bien doradas\",extra2=\"traer 2 limones\",extra3=\"Agua con hielo\")\n"
      ],
      "execution_count": 41,
      "outputs": [
        {
          "output_type": "stream",
          "text": [
            "{'primer': 'sopa aguada', 'fuerte': 'Tortas de papa', 'postre': 'Gelatina de limon', 'extra1': 'las tortas bien doradas', 'extra2': 'traer 2 limones', 'extra3': 'Agua con hielo'}\n",
            "primer->sopa aguada\n",
            "fuerte->Tortas de papa\n",
            "postre->Gelatina de limon\n",
            "extra1->las tortas bien doradas\n",
            "extra2->traer 2 limones\n",
            "extra3->Agua con hielo\n"
          ],
          "name": "stdout"
        }
      ]
    }
  ]
}