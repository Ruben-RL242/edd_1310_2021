{
  "nbformat": 4,
  "nbformat_minor": 0,
  "metadata": {
    "colab": {
      "name": "SumasTarea2_1310.ipynb",
      "provenance": [],
      "include_colab_link": true
    },
    "kernelspec": {
      "name": "python3",
      "display_name": "Python 3"
    }
  },
  "cells": [
    {
      "cell_type": "markdown",
      "metadata": {
        "id": "view-in-github",
        "colab_type": "text"
      },
      "source": [
        "<a href=\"https://colab.research.google.com/github/Ruben-RL242/edd_1310_2021/blob/master/SumasTarea2_1310.ipynb\" target=\"_parent\"><img src=\"https://colab.research.google.com/assets/colab-badge.svg\" alt=\"Open In Colab\"/></a>"
      ]
    },
    {
      "cell_type": "code",
      "metadata": {
        "id": "QvUBdlcyvtKo",
        "outputId": "6e265f27-7c14-44f3-e306-aebe2fe7b198",
        "colab": {
          "base_uri": "https://localhost:8080/",
          "height": 581
        }
      },
      "source": [
        "f = open(\"Datos.txt\", \"r\")\n",
        "sumas=0\n",
        "suma_renglon=0\n",
        "\n",
        "for linea in f:\n",
        "  datos=linea.strip().split(',')\n",
        "  try:\n",
        "      for j in range(len(datos)):\n",
        "        datos[j]=int(datos[j].strip())\n",
        "        sumas=sumas+datos[j]\n",
        "        suma_renglon=suma_renglon+datos[j]\n",
        "      print(datos)\n",
        "      print(f\"la suma del renglon es: {suma_renglon}\\n\")\n",
        "      suma_renglon=0\n",
        "  except:\n",
        "    print(end=\"\")\n",
        "print(f\"\\nla suma final es: {sumas}\")"
      ],
      "execution_count": 5,
      "outputs": [
        {
          "output_type": "stream",
          "text": [
            "[1, 2, 1, 14, 29, 45, 5, 58, 56, 10, 29, 14, 88, 17, 4, 3, 1, 7, 12, 10]\n",
            "la suma del renglon es: 406\n",
            "\n",
            "[2, 23, 5, 8, 44, 2, 2, 13, 5, 9, 10, 16, 98, 76, 47, 1, 1, 3, 2]\n",
            "la suma del renglon es: 367\n",
            "\n",
            "[3, 87, 15, 11, 9, 7, 90, 97, 21, 3, 4, 1, 8, 88, 74, 32, 34, 43, 17, 77, 93]\n",
            "la suma del renglon es: 814\n",
            "\n",
            "[4, 46, 8, 1, 6, 2, 10, 37, 84, 4, 5, 9, 10, 2, 6, 3, 1, 1, 1, 8, 4, 20, 33, 23, 18, 45]\n",
            "la suma del renglon es: 391\n",
            "\n",
            "[55, 3, 2, 29, 58, 83, 9, 17, 1, 43, 20, 93, 31, 46, 43, 77, 8, 44, 45, 17, 62]\n",
            "la suma del renglon es: 786\n",
            "\n",
            "[6, 74, 13, 44, 18, 45, 11, 93, 2, 1, 1, 1, 25, 1, 42, 18, 22, 44, 52]\n",
            "la suma del renglon es: 513\n",
            "\n",
            "[7, 88, 93, 6, 54, 2, 8, 1, 41, 86, 79, 33, 48, 9, 32, 63, 18, 7, 33, 2, 1, 16, 11, 7]\n",
            "la suma del renglon es: 745\n",
            "\n",
            "[8, 0, 22, 17, 30, 6, 2, 12, 47, 37, 34, 85, 47, 33, 2, 6, 8, 4, 5, 29, 30, 42, 77, 2]\n",
            "la suma del renglon es: 585\n",
            "\n",
            "[9, 2, 3, 4, 1, 1, 3, 6, 7, 7, 8, 9, 5, 1, 3, 4, 9, 10, 12, 3, 1, 5, 6, 22, 11, 0, 2]\n",
            "la suma del renglon es: 154\n",
            "\n",
            "[1, 0, 2, 55, 9, 3, 55, 23, 1, 6, 9, 4, 5, 3, 3, 2, 1, 3, 8, 1, 6, 10, 0, 1, 5, 1, 3]\n",
            "la suma del renglon es: 220\n",
            "\n",
            "\n",
            "la suma final es: 4981\n"
          ],
          "name": "stdout"
        }
      ]
    },
    {
      "cell_type": "code",
      "metadata": {
        "id": "eF34qYf07DCs",
        "outputId": "36792888-1c18-4fb9-a279-ff4b4ae7c3c9",
        "colab": {
          "base_uri": "https://localhost:8080/",
          "height": 35
        }
      },
      "source": [
        ""
      ],
      "execution_count": null,
      "outputs": [
        {
          "output_type": "stream",
          "text": [
            "\n"
          ],
          "name": "stdout"
        }
      ]
    }
  ]
}